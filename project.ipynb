{
 "cells": [
  {
   "cell_type": "markdown",
   "metadata": {},
   "source": [
    "# Drug Prescription Effectiveness and Ratings\n",
    "### Dataset \n",
    "This dataset deals with prescription drugs; it was found on Kaggle from user Rohan Harode.\n",
    "\n",
    "Link: https://www.kaggle.com/datasets/jessicali9530/kuc-hackathon-winter-2018\n",
    "\n",
    "#### Attributes\n",
    "* _Drug_: Name of drug\n",
    "* _condition_: Name of condition the drug intends to treat\n",
    "* _date_: date of review and rating entry\n",
    "* _Effectiveness_: 5 star patient review\n",
    "* _Age_: age range of the patient\n",
    "* _EaseOfUse_: 5 star rating of how easy the drug is to use\n",
    "* _Satisfaction_: 5 star rating of how the patients liked the drug\n",
    "* _Sex_: gender of patient\n",
    "\n",
    "* _*Both 'usefulCount' and 'review' attributes were ommitted; they will serve no use in the predictions_\n",
    "\n",
    "#### Predictions\n",
    "We are trying to predict the effectiveness of each drug based on an unseen patient. To do this, we will need to find the average effectiveness of each drug grouped by drug name.  \n",
    "\n",
    "The drug is aggregated into one instance with the average effectiveness score. This does not mean that a prediction for one  \n",
    "drug will always be the same, since the algorithms do take other attributes into account, not just the drug name."
   ]
  },
  {
   "cell_type": "code",
   "execution_count": 236,
   "metadata": {},
   "outputs": [],
   "source": [
    "# some useful mysklearn package import statements and reloads\n",
    "import importlib\n",
    "import mysklearn.myutils\n",
    "importlib.reload(mysklearn.myutils)\n",
    "import mysklearn.myutils as myutils\n",
    "\n",
    "import mysklearn.mypytable\n",
    "importlib.reload(mysklearn.mypytable)\n",
    "from mysklearn.mypytable import MyPyTable \n",
    "\n",
    "import mysklearn.myclassifiers\n",
    "importlib.reload(mysklearn.myclassifiers)\n",
    "from mysklearn.myclassifiers import MyKNeighborsClassifier, MyDummyClassifier, MyNaiveBayesClassifier, MyDecisionTreeClassifier, MyRandomForestClassifier\n",
    "\n",
    "import mysklearn.myevaluation\n",
    "importlib.reload(mysklearn.myevaluation)\n",
    "import mysklearn.myevaluation as myevaluation\n",
    "\n",
    "import plot_utils as plot\n",
    "importlib.reload(plot)\n",
    "\n",
    "import copy"
   ]
  },
  {
   "cell_type": "markdown",
   "metadata": {},
   "source": [
    "## Preprocessing\n",
    "\n",
    "- __Date__: date is converted into a `season` attribute to normalize the data, since individual dates will cause too much noise  \n",
    "and not be helpful attributes to predictions. \n",
    "- __UsefulCount__: dropped.\n",
    "\n",
    "The cleaned data is saved into a new file, `input_data/clean_drug.csv`."
   ]
  },
  {
   "cell_type": "code",
   "execution_count": 237,
   "metadata": {},
   "outputs": [],
   "source": [
    "# Dataset Preprocessing\n",
    "table, header = myutils.get_tables(\"input_data/webmd.csv\")\n",
    "drug_table = MyPyTable(header, table)\n",
    "\n",
    "drug_table.remove_rows_with_missing_values()\n",
    "drug_table.convert_to_numeric()\n",
    "to_rem = drug_table.find_duplicates(['Drug','Age','Condition','Date','EaseofUse','Satisfaction','Sex','UsefulCount','Effectiveness'])\n",
    "drug_table.drop_rows(to_rem)\n",
    "\n",
    "# remove non-useful attributes\n",
    "for i in range(len(drug_table.data)):\n",
    "    del drug_table.data[i][7]\n",
    "\n",
    "del drug_table.column_names[7]\n",
    "\n",
    "# convert dates to seasons, change some misc age values\n",
    "drug_table.column_names[3] = 'Season'\n",
    "for i in range(len(drug_table.data)):\n",
    "    val = drug_table.data[i][3]\n",
    "    newVal = myutils.season_discretize(val)\n",
    "    drug_table.data[i][3] = newVal\n",
    "\n",
    "    if drug_table.data[i][1] == '6-Mar':\n",
    "        drug_table.data[i][1] = '3-6'\n",
    "    if drug_table.data[i][1] == '12-Jul':\n",
    "        drug_table.data[i][1] = '7-12'\n",
    "\n",
    "drug_table.save_to_file('input_data/clean_drug.csv')"
   ]
  },
  {
   "cell_type": "code",
   "execution_count": 238,
   "metadata": {},
   "outputs": [],
   "source": [
    "import statistics\n",
    "\n",
    "# stats - group by 'Drug'\n",
    "values, counts = drug_table.get_frequencies('Drug')\n",
    "\n",
    "grouped_data = []\n",
    "for item in values:\n",
    "    grouped_data.append([])\n",
    "\n",
    "for item in drug_table.data:\n",
    "    ind = values.index(item[0])\n",
    "    grouped_data[ind].append(item)\n",
    "\n",
    "drug_avg_data = []\n",
    "for i in range(len(grouped_data)):\n",
    "    instance = []\n",
    "    instance.append(grouped_data[i][0][0])\n",
    "\n",
    "    mean_lists = []\n",
    "    for n in range(7):\n",
    "        mean_lists.append([])\n",
    "\n",
    "    for item in grouped_data[i]:\n",
    "        for j in range(len(item)):\n",
    "            if j == 0:\n",
    "                pass\n",
    "            else:\n",
    "                mean_lists[j-1].append(item[j])\n",
    "    \n",
    "    for item in mean_lists:\n",
    "        if isinstance(item[0], float):\n",
    "            instance.append(round(statistics.mean(item), 2))\n",
    "        else:\n",
    "            instance.append(myutils.get_most_frequent(item))\n",
    "\n",
    "    drug_avg_data.append(instance)\n",
    "\n",
    "avg_drug_table = MyPyTable()\n",
    "avg_drug_table.data = drug_avg_data\n",
    "avg_drug_table.column_names = drug_table.column_names"
   ]
  },
  {
   "cell_type": "markdown",
   "metadata": {},
   "source": [
    "To compute the effectiveness of each drug and display classification information on each instance, we had to convert the class label  \n",
    "into a categorical label. Instead of having an Effectiveness integer value between 0.0 and 5.0, we converted each Effectiveness  \n",
    "value to the following categorical values:\n",
    "- 0.0 to 1.0: Not_Effective (\"NE\")\n",
    "- 1.01 to 2.0: Slightly_Effective (\"SE\")\n",
    "- 2.01 to 3.0: Moderately_Effective (\"ME\")\n",
    "- 3.01 to 4.0: Effective (\"E\")\n",
    "- 4.01 to 5.0: Very_Effective (\"VE\")\n",
    "\n",
    "The same was done to the Satisfaction and EaseofUse attributes after creating charts of their values."
   ]
  },
  {
   "cell_type": "code",
   "execution_count": 239,
   "metadata": {},
   "outputs": [],
   "source": [
    "# create categorical attribute of effectiveness\n",
    "# convert effectiveness rating into categorical rating\n",
    "effectiveness_con = myutils.get_column(avg_drug_table.data, avg_drug_table.column_names, \"Effectiveness\")\n",
    "effectiveness_cat = myutils.continuous_to_categorical(effectiveness_con)\n",
    "for i in range(len(avg_drug_table.data)):\n",
    "    avg_drug_table.data[i][-1] = effectiveness_cat[i]\n",
    "\n",
    "avg_drug_table.save_to_file('input_data/grouped_data.csv')"
   ]
  },
  {
   "cell_type": "markdown",
   "metadata": {},
   "source": [
    "## EDA - Statistics"
   ]
  },
  {
   "cell_type": "markdown",
   "metadata": {},
   "source": [
    "### Boxplots"
   ]
  },
  {
   "cell_type": "code",
   "execution_count": 240,
   "metadata": {},
   "outputs": [
    {
     "data": {
      "image/png": "[encoded data removed]",
      "text/plain": [
       "<Figure size 1440x360 with 1 Axes>"
      ]
     },
     "metadata": {
      "needs_background": "light"
     },
     "output_type": "display_data"
    }
   ],
   "source": [
    "# Boxplot of each class label\n",
    "eff_vals, eff_counts = avg_drug_table.get_frequencies('Effectiveness')\n",
    "count_ord = []\n",
    "l = [2, 3, 1, 0, 4]\n",
    "for item in l:\n",
    "    count_ord.append(eff_counts[item])\n",
    "\n",
    "labels = ['Not Effective', 'Slightly Effective', 'Moderately Effective', 'Effective', 'Very Effective']\n",
    "plot.bar_chart(labels, count_ord, \"Average Effectiveness of Drugs\", \"Effectiveness\", \"Frequency\")"
   ]
  },
  {
   "cell_type": "markdown",
   "metadata": {},
   "source": [
    "Overall, the effectiveness levels of each drug are overwhelmingly positive. The 'Very Effective' and 'Effective' classifications dwarf the others."
   ]
  },
  {
   "cell_type": "code",
   "execution_count": 241,
   "metadata": {},
   "outputs": [
    {
     "data": {
      "image/png": "[encoded data removed]",
      "text/plain": [
       "<Figure size 1440x360 with 1 Axes>"
      ]
     },
     "metadata": {
      "needs_background": "light"
     },
     "output_type": "display_data"
    }
   ],
   "source": [
    "# Boxplot of seasons\n",
    "sz_vals, sz_counts = avg_drug_table.get_frequencies('Season')\n",
    "count_ord = []\n",
    "l = [1, 2, 0, 3]\n",
    "for item in l:\n",
    "    count_ord.append(sz_counts[item])\n",
    "\n",
    "plot.bar_chart(['Spring', 'Summer', 'Fall', 'Winter'], count_ord, \"Season Frequency\", \"Season\", \"Frequency\")"
   ]
  },
  {
   "cell_type": "markdown",
   "metadata": {},
   "source": [
    "There seems to be more drugs prescribed in the Fall and Winter as opposed to Spring and Summer. Perhaps it is the colder weather that leads into more sickness."
   ]
  },
  {
   "cell_type": "code",
   "execution_count": 242,
   "metadata": {},
   "outputs": [
    {
     "data": {
      "image/png": "[encoded data removed]",
      "text/plain": [
       "<Figure size 1440x360 with 1 Axes>"
      ]
     },
     "metadata": {
      "needs_background": "light"
     },
     "output_type": "display_data"
    }
   ],
   "source": [
    "# Boxplot of age\n",
    "age_vals, age_counts = avg_drug_table.get_frequencies('Age')\n",
    "count_ord = []\n",
    "\n",
    "l = [0, 4, 9, 1, 2, 3, 5, 6, 7, 8, 10]\n",
    "for item in l:\n",
    "    count_ord.append(age_counts[item])\n",
    "\n",
    "plot.bar_chart(['0-2', '3-6', '7-12', '13-18', '19-24', '25-34', '35-44', '45-54', '55-64', '65-74', '75+'], count_ord, \"Age Frequency\", \"Age\", \"Frequency\")"
   ]
  },
  {
   "cell_type": "markdown",
   "metadata": {},
   "source": [
    "25-34 year olds dominate the majority of the instances. The distribution of age categories is strongly skewed towards the younger population."
   ]
  },
  {
   "cell_type": "markdown",
   "metadata": {},
   "source": [
    "### Scatter Plots"
   ]
  },
  {
   "cell_type": "code",
   "execution_count": 243,
   "metadata": {},
   "outputs": [
    {
     "name": "stdout",
     "output_type": "stream",
     "text": [
      "y = 0.7222 x + 0.724\n",
      "r: 0.63\n",
      "Covariance: 0.75\n"
     ]
    },
    {
     "data": {
      "image/png": "[encoded data removed]",
      "text/plain": [
       "<Figure size 432x288 with 1 Axes>"
      ]
     },
     "metadata": {
      "needs_background": "light"
     },
     "output_type": "display_data"
    }
   ],
   "source": [
    "eou_data = avg_drug_table.get_column('EaseofUse')\n",
    "satisfaction_data = avg_drug_table.get_column('Satisfaction')\n",
    "\n",
    "plot.scatter_chart(eou_data, satisfaction_data, \"Ease of Use and Satisfaction\", 'Ease of Use', 'Satisfaction')"
   ]
  },
  {
   "cell_type": "markdown",
   "metadata": {},
   "source": [
    "With an r-value of 0.63, there is a moderately strong correlation between ease of use and satisfaction (understandbly). It is worth noting that the concentration of data is in the higher end range of each variable."
   ]
  },
  {
   "cell_type": "markdown",
   "metadata": {},
   "source": [
    "## ML Models \n",
    "\n",
    "### Dummy Classifier\n",
    "\n",
    "We first ran fit and predict with a dummy classifier to get a baseline performance of our data. The dummy usually fits around 30%  \n",
    "accuracy. The positive classifier is \"VE\" or \"Very Effective\". \n",
    "\n",
    "As we are able to see below, the dummy classifier performs better than some of the other classifiers most of the time. This may be indicative that predicting the effectiveness of drugs is not an easy thing to predict. There are many other variables to consider that create a lot of noise. "
   ]
  },
  {
   "cell_type": "code",
   "execution_count": 244,
   "metadata": {},
   "outputs": [
    {
     "name": "stdout",
     "output_type": "stream",
     "text": [
      "============================\n",
      "Dummy Classification\n",
      "============================\n",
      "Accuracy: 0.37 ~ Error Rate: 0.63\n",
      "Recall Score: 1.0\n",
      "Precision Score: 0.36\n",
      "F1 Score: 0.53\n",
      "\n",
      "Confusion Matrix:\n",
      "+-----+---+----+----+----+\n",
      "| VE  | E | ME | SE | NE |\n",
      "+-----+---+----+----+----+\n",
      "| 369 | 0 | 0  | 0  | 0  |\n",
      "| 343 | 0 | 0  | 0  | 0  |\n",
      "| 191 | 0 | 0  | 0  | 0  |\n",
      "| 57  | 0 | 0  | 0  | 0  |\n",
      "| 56  | 0 | 0  | 0  | 0  |\n",
      "+-----+---+----+----+----+\n"
     ]
    }
   ],
   "source": [
    "# normalize EaseofUse and Satisfaction\n",
    "ease_con = myutils.get_column(avg_drug_table.data, avg_drug_table.column_names, \"EaseofUse\")\n",
    "ease_cat = myutils.continuous_to_categorical(ease_con)\n",
    "for i in range(len(avg_drug_table.data)):\n",
    "    avg_drug_table.data[i][4] = ease_cat[i]\n",
    "\n",
    "satisfaction_con = myutils.get_column(avg_drug_table.data, avg_drug_table.column_names, \"Satisfaction\")\n",
    "satisfaction_cat = myutils.continuous_to_categorical(satisfaction_con)\n",
    "for i in range(len(avg_drug_table.data)):\n",
    "    avg_drug_table.data[i][5] = satisfaction_cat[i]\n",
    "avg_drug_table.save_to_file('input_data/grouped_data.csv')\n",
    "\n",
    "# get X and y for stratified k fold cross validation\n",
    "X = []\n",
    "y = []\n",
    "for i in range(len(avg_drug_table.data)):\n",
    "    # create X, y, remove class label from X\n",
    "    X.append(avg_drug_table.data[i].copy()) \n",
    "    y.append(avg_drug_table.data[i][-1]) # class label\n",
    "# remove class label from X\n",
    "for row in X:\n",
    "    row.pop(-1)\n",
    "\n",
    "# get folds\n",
    "X_train_folds, X_test_folds = myevaluation.stratified_kfold_cross_validation(X, y, n_splits=5, random_state=None, shuffle=True)\n",
    "\n",
    "# create training/testing sets out of the folds\n",
    "X_train_sets, y_train_sets = myutils.get_sets_from_folds(X, y, X_train_folds)\n",
    "X_test_sets, y_test_sets = myutils.get_sets_from_folds(X, y, X_test_folds)\n",
    "\n",
    "labels = [\"VE\", \"E\", \"ME\", \"SE\", \"NE\"]\n",
    "dummy = MyDummyClassifier()\n",
    "myutils.fit_predict_classification(X_train_sets, y_train_sets, \n",
    "    X_test_sets, y_test_sets, dummy, \"Dummy\", labels)\n"
   ]
  },
  {
   "cell_type": "markdown",
   "metadata": {},
   "source": [
    "### KNN Classifier\n",
    "\n",
    "The KNN classifier is usually the worst performing classifier of the three that we chose (KNN, Decision Tree, and Random Forest).  \n",
    "The accuracy is often below 30%, yet its precision is one of the highest, usually spanning from a range of 0.65 to 0.85. The most  \n",
    "correctly predicted positive instances were found in the KNN classifier. "
   ]
  },
  {
   "cell_type": "code",
   "execution_count": 245,
   "metadata": {},
   "outputs": [
    {
     "name": "stdout",
     "output_type": "stream",
     "text": [
      "============================\n",
      "KNN Classification\n",
      "============================\n",
      "Accuracy: 0.33 ~ Error Rate: 0.67\n",
      "Recall Score: 0.59\n",
      "Precision Score: 0.72\n",
      "F1 Score: 0.65\n",
      "\n",
      "Confusion Matrix:\n",
      "+-----+-----+-----+----+----+\n",
      "| VE  |  E  | ME  | SE | NE |\n",
      "+-----+-----+-----+----+----+\n",
      "| 299 | 56  | 13  | 0  | 1  |\n",
      "| 75  | 231 | 31  | 2  | 4  |\n",
      "| 26  | 46  | 109 | 4  | 6  |\n",
      "|  7  |  8  | 19  | 14 | 9  |\n",
      "|  7  |  5  |  4  | 3  | 37 |\n",
      "+-----+-----+-----+----+----+\n"
     ]
    }
   ],
   "source": [
    "knn = MyKNeighborsClassifier()\n",
    "myutils.fit_predict_classification(X_train_sets, y_train_sets, \n",
    "    X_test_sets, y_test_sets, knn, \"KNN\", labels)"
   ]
  },
  {
   "cell_type": "markdown",
   "metadata": {},
   "source": [
    "### Decision Tree Classifier\n",
    "\n",
    "Before we began fitting and predicting instances with the Decision Tree and Random Forest, we needed to normalize `EaseofUse` and  \n",
    "`Satisfaction` also. Similar to `Effectiveness`, we needed to change the values to a range of possible values so the algorithm can  \n",
    "effectively predict. \n",
    "\n",
    "The name and condition attributes were also ommited from the data tested for the Decision Tree and Random Forest, because the  \n",
    "algorithm would create trees with over 1000 Attribute=DrugName branches. Then, if the algorithm finds an instance with a drug with  \n",
    "the other attributes being different, the algorithm would crash since there would be no possible choices for the unseen instance. \n",
    "\n",
    "The Decision Tree typically performs around the same as the dummy classifier. All measurements are fairly similar, but the accuracy  \n",
    "is typically lower and the precision is typically higher. "
   ]
  },
  {
   "cell_type": "code",
   "execution_count": 246,
   "metadata": {},
   "outputs": [
    {
     "name": "stdout",
     "output_type": "stream",
     "text": [
      "============================\n",
      "Decision Tree Classification\n",
      "============================\n",
      "Accuracy: 0.31 ~ Error Rate: 0.69\n",
      "Recall Score: 0.56\n",
      "Precision Score: 0.85\n",
      "F1 Score: 0.68\n",
      "\n",
      "Confusion Matrix:\n",
      "+-----+-----+-----+----+----+\n",
      "| VE  |  E  | ME  | SE | NE |\n",
      "+-----+-----+-----+----+----+\n",
      "| 295 | 56  | 14  | 0  | 4  |\n",
      "| 46  | 252 | 41  | 0  | 4  |\n",
      "|  5  | 45  | 136 | 3  | 2  |\n",
      "|  0  |  7  | 31  | 2  | 17 |\n",
      "|  0  |  0  |  4  | 2  | 50 |\n",
      "+-----+-----+-----+----+----+\n",
      "\n"
     ]
    }
   ],
   "source": [
    "def x_rem(sets):\n",
    "    newSets = []\n",
    "    for set in sets:\n",
    "        newSet = []\n",
    "        for instance in set:\n",
    "            newIns = []\n",
    "            for i in range(len(instance)):\n",
    "                if i == 0 or i == 2:\n",
    "                    pass\n",
    "                # elif i == 4 or i == 5:\n",
    "                #     val = myutils.continuous_to_categorical([instance[i]])\n",
    "                #     newIns.append(val[0])\n",
    "                else:\n",
    "                    newIns.append(instance[i])\n",
    "            newSet.append(newIns)\n",
    "        newSets.append(newSet)\n",
    "\n",
    "    return newSets\n",
    "\n",
    "\n",
    "x_dec_train_sets = x_rem(X_train_sets)\n",
    "x_dec_test_sets = x_rem(X_test_sets)\n",
    "\n",
    "myutils.fit_predict_classification(x_dec_train_sets, y_train_sets, x_dec_test_sets, \n",
    "    y_test_sets, MyDecisionTreeClassifier(), 'Decision Tree', labels)\n",
    "print() "
   ]
  },
  {
   "cell_type": "markdown",
   "metadata": {},
   "source": [
    "### Random Forest Classifier\n",
    "\n",
    "The Random Forest classifier is the best performing classifier between KNN, Decision Tree, and Random Forest. Accuracy usually lands  \n",
    "between 30% and 38%, while the precision is typically from 70% to 85%. The same data is used in the Random Forest than the Decision  \n",
    "Tree, for similar reasons for the Decision Tree. Our Forest is created from the 5 best performing trees out of 15. "
   ]
  },
  {
   "cell_type": "code",
   "execution_count": 247,
   "metadata": {},
   "outputs": [
    {
     "name": "stdout",
     "output_type": "stream",
     "text": [
      "============================\n",
      "Forest Classification\n",
      "============================\n",
      "Accuracy: 0.32 ~ Error Rate: 0.68\n",
      "Recall Score: 0.55\n",
      "Precision Score: 0.63\n",
      "F1 Score: 0.57\n",
      "\n",
      "Confusion Matrix:\n",
      "+-----+-----+----+----+----+\n",
      "| VE  |  E  | ME | SE | NE |\n",
      "+-----+-----+----+----+----+\n",
      "| 290 | 59  | 16 | 3  | 1  |\n",
      "| 136 | 174 | 28 | 4  | 1  |\n",
      "| 41  | 59  | 79 | 5  | 7  |\n",
      "| 13  | 11  | 19 | 6  | 8  |\n",
      "| 14  |  7  | 5  | 6  | 24 |\n",
      "+-----+-----+----+----+----+\n"
     ]
    }
   ],
   "source": [
    "forest = MyRandomForestClassifier(N=15, F=3, M=5)\n",
    "header = [\"Age\", \"Season\", \"EaseofUse\", \"Satisfaction\", \"Sex\"]\n",
    "myutils.fit_predict_classification(x_dec_train_sets, y_train_sets, x_dec_test_sets, y_test_sets, forest, \"Forest\", labels, header)"
   ]
  },
  {
   "cell_type": "markdown",
   "metadata": {},
   "source": [
    "## Conclusion\n",
    "\n",
    "Our dataset includes 1016 instances of data with aggregated Effectiveness scores for each type of drug. The original dataset included  \n",
    "300,000+ instances, but we were able to compress the data significantly for faster computation.  \n",
    "\n",
    "Challenges in our dataset included:\n",
    "- aggregating Effectiveness, EaseofUse, and Satisfaction into categorical attributes from continuous attributes. \n",
    "- removing drug name and condition attributes for Trees and Forests to ensure more honest predictions. \n",
    "\n",
    "\n",
    "We decided to classifiy instances based on `Effectiveness`, since patients would want to know a prediction of a drug they might use  \n",
    "based on information about them. \n",
    "\n",
    "\n",
    "The performance of each classifier at the time of creating this EDA:\n",
    "- Dummy\n",
    "    - Accuracy = 0.37, Error Rate = 0.63\n",
    "    - Recall = 1.0\n",
    "    - Precision = 0.36\n",
    "    - F1 = 0.53\n",
    "\n",
    "- KNN\n",
    "    - Accuracy = 0.33, Error Rate = 0.67\n",
    "    - Recall = 0.59\n",
    "    - Precision = 0.72\n",
    "    - F1 = 0.65\n",
    "\n",
    "- Decision Tree\n",
    "    - Accuracy = 0.31, Error Rate = 069\n",
    "    - Recall = 0.55\n",
    "    - Precision = 0.63\n",
    "    - F1 = 0.57\n",
    "\n",
    "- Random Forest\n",
    "    - Accuracy = 0.32, Error Rate = 0.68\n",
    "    - Recall = 0.58\n",
    "    - Precision = 0.77\n",
    "    - F1 = 0.66\n",
    "\n",
    "Some ideas for imporvement:\n",
    "- remove some attributes that my not be as significant (e.g. Season)\n",
    "- find a dataset with more diverse attribute combinations\n",
    "    - most types of drugs are used by similar demographics (with age, season, etc...)\n",
    "- our predictions for Effectiveness rely heavily on EaseofUse and Satisfaction ratings, so we could remove these attributes  \n",
    "    and try to predict again.\n",
    "    - these attrubutes have more predicting power than others, so it would be interesting to see how our predictions are different  \n",
    "        without them."
   ]
  }
 ],
 "metadata": {
  "interpreter": {
   "hash": "d4d1e4263499bec80672ea0156c357c1ee493ec2b1c70f0acce89fc37c4a6abe"
  },
  "kernelspec": {
   "display_name": "Python 3.9.7 ('base')",
   "language": "python",
   "name": "python3"
  },
  "language_info": {
   "codemirror_mode": {
    "name": "ipython",
    "version": 3
   },
   "file_extension": ".py",
   "mimetype": "text/x-python",
   "name": "python",
   "nbconvert_exporter": "python",
   "pygments_lexer": "ipython3",
   "version": "3.9.7"
  },
  "orig_nbformat": 4
 },
 "nbformat": 4,
 "nbformat_minor": 2
}
