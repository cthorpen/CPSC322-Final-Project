{
 "cells": [
  {
   "cell_type": "code",
   "execution_count": 9,
   "metadata": {},
   "outputs": [],
   "source": [
    "# some useful mysklearn package import statements and reloads\n",
    "import importlib\n",
    "import mysklearn.myutils\n",
    "importlib.reload(mysklearn.myutils)\n",
    "import mysklearn.myutils as myutils\n",
    "\n",
    "# uncomment once you paste your mypytable.py into mysklearn package\n",
    "import mysklearn.mypytable\n",
    "importlib.reload(mysklearn.mypytable)\n",
    "from mysklearn.mypytable import MyPyTable \n",
    "\n",
    "# uncomment once you paste your myclassifiers.py into mysklearn package\n",
    "import mysklearn.myclassifiers\n",
    "importlib.reload(mysklearn.myclassifiers)\n",
    "from mysklearn.myclassifiers import MyKNeighborsClassifier, MyDummyClassifier, MyNaiveBayesClassifier, MyDecisionTreeClassifier\n",
    "\n",
    "import mysklearn.myevaluation\n",
    "importlib.reload(mysklearn.myevaluation)\n",
    "import mysklearn.myevaluation as myevaluation\n",
    "\n",
    "# get table and header\n",
    "table, header = myutils.get_tables(\"input_data/webmd.csv\")\n",
    "\n"
   ]
  },
  {
   "cell_type": "code",
   "execution_count": 10,
   "metadata": {},
   "outputs": [],
   "source": [
    "drug_table = MyPyTable(header, table)\n",
    "drug_table.remove_rows_with_missing_values()\n",
    "\n",
    "labels = [\"Drug\", \"Age\", \"Condition\", \"Date\", \"EaseofUse\", \"Satisfaction\", \"Sex\", \"UsefulCount\", \"Effectiveness\"]\n",
    "\n",
    "# get X and y for stratified k fold cross validation\n",
    "X = []\n",
    "y = []\n",
    "for i in range(len(drug_table.data)):\n",
    "    # create X, y, remove class label from X\n",
    "    X.append(drug_table.data) \n",
    "    y.append(drug_table.data[i][-1]) # class label\n",
    "\n",
    "# get folds\n",
    "X_train_folds, X_test_folds = myevaluation.stratified_kfold_cross_validation(X, y, n_splits=5, random_state=None, shuffle=True)\n",
    "# create training/testing sets out of the folds\n",
    "X_train_sets_bl, y_train_sets_bl = myutils.get_sets_from_folds(X, y, X_train_folds)\n",
    "X_test_sets_bl, y_test_sets_bl = myutils.get_sets_from_folds(X, y, X_test_folds)\n",
    "\n",
    "k_neighbors = MyKNeighborsClassifier(n_neighbors=7)\n",
    "\n",
    "myutils.fit_predict_classification(X_train_sets_bl, y_train_sets_bl, \n",
    "    X_test_sets_bl, y_test_sets_bl, k_neighbors, \"K Neighbors\", labels)\n"
   ]
  }
 ],
 "metadata": {
  "interpreter": {
   "hash": "090d10ac5cfc4b4396b22c4674b4b4533618417b4c80368e9dbb796ade55291a"
  },
  "kernelspec": {
   "display_name": "Python 3.9.7 ('base')",
   "language": "python",
   "name": "python3"
  },
  "language_info": {
   "codemirror_mode": {
    "name": "ipython",
    "version": 3
   },
   "file_extension": ".py",
   "mimetype": "text/x-python",
   "name": "python",
   "nbconvert_exporter": "python",
   "pygments_lexer": "ipython3",
   "version": "3.9.7"
  },
  "orig_nbformat": 4
 },
 "nbformat": 4,
 "nbformat_minor": 2
}
