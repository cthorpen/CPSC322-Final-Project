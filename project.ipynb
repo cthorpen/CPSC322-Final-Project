{
 "cells": [
  {
   "cell_type": "markdown",
   "metadata": {},
   "source": [
    "# EDA - Drug Prescription Effectiveness and Ratings\n",
    "#### Todo:\n",
    "- explanation of the data and where its from (in the proposal)\n",
    "- what we're trying to predict\n",
    "    - i was thinking try to predict a drug's effectiveness / rating based on other reviews\n",
    "- how were going to do that / what classifiers we use\n",
    "    - knn\n",
    "    - decision tree\n",
    "    - forest (have to use this one)\n",
    "    - could use others too\n",
    "\n",
    "#### what gina said we should do - and explain that we need to do this in the EDA too:\n",
    "- make the class label a high/low rating, instead of 1 to 5\n",
    "    - or do the PA7 bonus and make the precision and recall scores not binary\n",
    "- probably take out the usefulCount attribute\n",
    "- get average scores of each drug and predict on those for each drug\n",
    "    - then the accuracies will probably be better\n",
    "\n",
    "\n",
    "\n",
    "you could try to do these rn too but i forget exactly what she said so we can ask her again tomorrow\n",
    "\n",
    "also the webmd_short.csv is the same thing but with like 1,000 instances instead of 10,000. just bc the other one was taking  \n",
    "too long to run but we can try to get it to work."
   ]
  },
  {
   "cell_type": "code",
   "execution_count": 38,
   "metadata": {},
   "outputs": [],
   "source": [
    "# some useful mysklearn package import statements and reloads\n",
    "import importlib\n",
    "import mysklearn.myutils\n",
    "importlib.reload(mysklearn.myutils)\n",
    "import mysklearn.myutils as myutils\n",
    "\n",
    "# uncomment once you paste your mypytable.py into mysklearn package\n",
    "import mysklearn.mypytable\n",
    "importlib.reload(mysklearn.mypytable)\n",
    "from mysklearn.mypytable import MyPyTable \n",
    "\n",
    "# uncomment once you paste your myclassifiers.py into mysklearn package\n",
    "import mysklearn.myclassifiers\n",
    "importlib.reload(mysklearn.myclassifiers)\n",
    "from mysklearn.myclassifiers import MyKNeighborsClassifier, MyDummyClassifier, MyNaiveBayesClassifier, MyDecisionTreeClassifier\n",
    "\n",
    "import mysklearn.myevaluation\n",
    "importlib.reload(mysklearn.myevaluation)\n",
    "import mysklearn.myevaluation as myevaluation\n",
    "\n",
    "# get table and header\n",
    "table, header = myutils.get_tables(\"input_data/webmd_short.csv\")"
   ]
  },
  {
   "cell_type": "code",
   "execution_count": 39,
   "metadata": {},
   "outputs": [
    {
     "name": "stdout",
     "output_type": "stream",
     "text": [
      "============================\n",
      "Dummy Classification\n",
      "============================\n",
      "Accuracy: 0.47 ~ Error Rate: 0.53\n",
      "Recall Score: 1.0\n",
      "Precision Score: 0.43\n",
      "F1 Score: 0.61\n",
      "\n",
      "Confusion Matrix:\n",
      "+-----+---+---+---+---+\n",
      "|  5  | 4 | 3 | 2 | 1 |\n",
      "+-----+---+---+---+---+\n",
      "| 286 | 0 | 0 | 0 | 0 |\n",
      "| 170 | 0 | 0 | 0 | 0 |\n",
      "| 90  | 0 | 0 | 0 | 0 |\n",
      "| 48  | 0 | 0 | 0 | 0 |\n",
      "| 64  | 0 | 0 | 0 | 0 |\n",
      "+-----+---+---+---+---+\n"
     ]
    }
   ],
   "source": [
    "drug_table = MyPyTable(header, table)\n",
    "# print(drug_table.column_names)\n",
    "drug_table.remove_rows_with_missing_values()\n",
    "drug_table.convert_to_numeric()\n",
    "\n",
    "# get X and y for stratified k fold cross validation\n",
    "X = []\n",
    "y = []\n",
    "for i in range(len(drug_table.data)):\n",
    "    # create X, y, remove class label from X\n",
    "    X.append(drug_table.data[i]) \n",
    "    y.append(drug_table.data[i][-1]) # class label\n",
    "# remove class label from X\n",
    "for row in X:\n",
    "    row.pop(-1)\n",
    "\n",
    "\n",
    "# get folds\n",
    "X_train_folds, X_test_folds = myevaluation.stratified_kfold_cross_validation(X, y, n_splits=5, random_state=None, shuffle=True)\n",
    "\n",
    "# create training/testing sets out of the folds\n",
    "X_train_sets, y_train_sets = myutils.get_sets_from_folds(X, y, X_train_folds)\n",
    "X_test_sets, y_test_sets = myutils.get_sets_from_folds(X, y, X_test_folds)\n",
    "\n",
    "labels = [5, 4, 3, 2, 1] # has to be numeric bc the vals in the table are too\n",
    "\n",
    "\n",
    "# k_neighbors = MyKNeighborsClassifier(n_neighbors=7)\n",
    "# myutils.fit_predict_classification(X_train_sets, y_train_sets, \n",
    "#     X_test_sets, y_test_sets, k_neighbors, \"K Neighbors\", labels)\n",
    "\n",
    "dummy = MyDummyClassifier()\n",
    "myutils.fit_predict_classification(X_train_sets, y_train_sets, \n",
    "    X_test_sets, y_test_sets, dummy, \"Dummy\", labels)\n",
    "\n",
    "# tree = MyDecisionTreeClassifier()\n",
    "# myutils.fit_predict_classification(X_train_sets, y_train_sets, \n",
    "#     X_test_sets, y_test_sets, tree, \"Tree\", labels)"
   ]
  }
 ],
 "metadata": {
  "interpreter": {
   "hash": "d4d1e4263499bec80672ea0156c357c1ee493ec2b1c70f0acce89fc37c4a6abe"
  },
  "kernelspec": {
   "display_name": "Python 3.9.7 ('base')",
   "language": "python",
   "name": "python3"
  },
  "language_info": {
   "codemirror_mode": {
    "name": "ipython",
    "version": 3
   },
   "file_extension": ".py",
   "mimetype": "text/x-python",
   "name": "python",
   "nbconvert_exporter": "python",
   "pygments_lexer": "ipython3",
   "version": "3.9.7"
  },
  "orig_nbformat": 4
 },
 "nbformat": 4,
 "nbformat_minor": 2
}
