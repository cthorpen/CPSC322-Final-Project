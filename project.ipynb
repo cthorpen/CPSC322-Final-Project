{
 "cells": [
  {
   "cell_type": "markdown",
   "metadata": {},
   "source": [
    "# Drug Prescription Effectiveness and Ratings\n",
    "### Dataset \n",
    "This dataset deals with prescription drugs; it was found on Kaggle from user Rohan Harode.\n",
    "\n",
    "Link: https://www.kaggle.com/datasets/jessicali9530/kuc-hackathon-winter-2018\n",
    "\n",
    "#### Attributes\n",
    "* _Drug_: Name of drug\n",
    "* _condition_: Name of condition the drug intends to treat\n",
    "* _date_: date of review and rating entry\n",
    "* _Effectiveness_: 5 star patient review\n",
    "* _Age_: age range of the patient\n",
    "* _EaseOfUse_: 5 star rating of how easy the drug is to use\n",
    "* _Satisfaction_: 5 star rating of how the patients liked the drug\n",
    "* _Sex_: gender of patient\n",
    "\n",
    "* _*Both 'usefulCount' and 'review' attributes were ommitted; they will serve no use in the predictions_\n",
    "\n",
    "#### Predictions\n",
    "We are trying to predict the effectiveness of each drug based on an unseen patient. To do this, we will need to find the average effectiveness of each drug grouped by drug name."
   ]
  },
  {
   "cell_type": "code",
   "execution_count": 10,
   "metadata": {},
   "outputs": [],
   "source": [
    "# some useful mysklearn package import statements and reloads\n",
    "import importlib\n",
    "import mysklearn.myutils\n",
    "importlib.reload(mysklearn.myutils)\n",
    "import mysklearn.myutils as myutils\n",
    "\n",
    "import mysklearn.mypytable\n",
    "importlib.reload(mysklearn.mypytable)\n",
    "from mysklearn.mypytable import MyPyTable \n",
    "\n",
    "import mysklearn.myclassifiers\n",
    "importlib.reload(mysklearn.myclassifiers)\n",
    "from mysklearn.myclassifiers import MyKNeighborsClassifier, MyDummyClassifier, MyNaiveBayesClassifier, MyDecisionTreeClassifier\n",
    "\n",
    "import mysklearn.myevaluation\n",
    "importlib.reload(mysklearn.myevaluation)\n",
    "import mysklearn.myevaluation as myevaluation\n",
    "\n",
    "import plot_utils\n",
    "importlib.reload(plot_utils) \n",
    "import plot_utils as plot"
   ]
  },
  {
   "cell_type": "code",
   "execution_count": 3,
   "metadata": {},
   "outputs": [],
   "source": [
    "# Dataset Preprocessing\n",
    "table, header = myutils.get_tables(\"input_data/webmd.csv\")\n",
    "drug_table = MyPyTable(header, table)\n",
    "\n",
    "drug_table.remove_rows_with_missing_values()\n",
    "drug_table.convert_to_numeric()\n",
    "to_rem = drug_table.find_duplicates(['Drug','Age','Condition','Date','EaseofUse','Satisfaction','Sex','UsefulCount','Effectiveness'])\n",
    "drug_table.drop_rows(to_rem)\n",
    "\n",
    "# remove non-useful attributes\n",
    "for i in range(len(drug_table.data)):\n",
    "    del drug_table.data[i][7]\n",
    "\n",
    "del drug_table.column_names[7]\n",
    "\n",
    "# convert dates to seasons, change some misc age values\n",
    "drug_table.column_names[3] = 'Season'\n",
    "for i in range(len(drug_table.data)):\n",
    "    val = drug_table.data[i][3]\n",
    "    newVal = myutils.season_discretize(val)\n",
    "    drug_table.data[i][3] = newVal\n",
    "\n",
    "    if drug_table.data[i][1] == '6-Mar':\n",
    "        drug_table.data[i][1] = '3-6'\n",
    "    if drug_table.data[i][1] == '12-Jul':\n",
    "        drug_table.data[i][1] = '7-12'\n",
    "\n",
    "drug_table.save_to_file('input_data/clean_drug.csv')"
   ]
  },
  {
   "cell_type": "code",
   "execution_count": 7,
   "metadata": {},
   "outputs": [
    {
     "name": "stdout",
     "output_type": "stream",
     "text": [
      "index: 7\n"
     ]
    }
   ],
   "source": [
    "import statistics\n",
    "\n",
    "# stats - group by 'Drug'\n",
    "values, counts = drug_table.get_frequencies('Drug')\n",
    "\n",
    "grouped_data = []\n",
    "for item in values:\n",
    "    grouped_data.append([])\n",
    "\n",
    "for item in drug_table.data:\n",
    "    ind = values.index(item[0])\n",
    "    grouped_data[ind].append(item)\n",
    "\n",
    "drug_avg_data = []\n",
    "for i in range(len(grouped_data)):\n",
    "    instance = []\n",
    "    instance.append(grouped_data[i][0][0])\n",
    "\n",
    "    mean_lists = []\n",
    "    for n in range(7):\n",
    "        mean_lists.append([])\n",
    "\n",
    "    for item in grouped_data[i]:\n",
    "        for j in range(len(item)):\n",
    "            if j == 0:\n",
    "                pass\n",
    "            else:\n",
    "                mean_lists[j-1].append(item[j])\n",
    "    \n",
    "    for item in mean_lists:\n",
    "        if isinstance(item[0], float):\n",
    "            instance.append(round(statistics.mean(item), 2))\n",
    "        else:\n",
    "            instance.append(myutils.get_most_frequent(item))\n",
    "\n",
    "    drug_avg_data.append(instance)\n",
    "\n",
    "avg_drug_table = MyPyTable()\n",
    "avg_drug_table.data = drug_avg_data\n",
    "avg_drug_table.column_names = drug_table.column_names\n",
    "\n",
    "# create categorical attribute of effectiveness\n",
    "# convert effectiveness rating into categorical rating\n",
    "effectiveness_con = myutils.get_column(avg_drug_table.data, avg_drug_table.column_names, \"Effectiveness\")\n",
    "effectiveness_cat = myutils.continuous_to_categorical(effectiveness_con)\n",
    "for i in range(len(avg_drug_table.data)):\n",
    "    avg_drug_table.data[i][-1] = effectiveness_cat[i]\n",
    "\n",
    "avg_drug_table.save_to_file('input_data/grouped_data.csv')"
   ]
  },
  {
   "cell_type": "markdown",
   "metadata": {},
   "source": [
    "### EDA - Statistics\n",
    "\n",
    "To compute the effectiveness of each drug and display classification information on each instance, we had to convert the class label  \n",
    "into a categorical label. Instead of having an Effectiveness integer value between 0.0 and 5.0, we converted each Effectiveness  \n",
    "value to the following categorical values:\n",
    "- 0.0 to 1.0: Not_Effective (\"NE\")\n",
    "- 1.01 to 2.0: Slightly_Effective (\"SE\")\n",
    "- 2.01 to 3.0: Moderately_Effective (\"ME\")\n",
    "- 3.01 to 4.0: Effective (\"E\")\n",
    "- 4.01 to 5.0: Very_Effective (\"VE\")"
   ]
  },
  {
   "cell_type": "code",
   "execution_count": 8,
   "metadata": {},
   "outputs": [
    {
     "name": "stdout",
     "output_type": "stream",
     "text": [
      "index: 1\n",
      "============================\n",
      "Dummy Classification\n",
      "============================\n",
      "Accuracy: 0.37 ~ Error Rate: 0.63\n",
      "Recall Score: 1.0\n",
      "Precision Score: 0.36\n",
      "F1 Score: 0.53\n",
      "\n",
      "Confusion Matrix:\n",
      "+-----+---+----+----+----+\n",
      "| VE  | E | ME | SE | NE |\n",
      "+-----+---+----+----+----+\n",
      "| 369 | 0 | 0  | 0  | 0  |\n",
      "| 343 | 0 | 0  | 0  | 0  |\n",
      "| 191 | 0 | 0  | 0  | 0  |\n",
      "| 57  | 0 | 0  | 0  | 0  |\n",
      "| 56  | 0 | 0  | 0  | 0  |\n",
      "+-----+---+----+----+----+\n"
     ]
    }
   ],
   "source": [
    "# get X and y for stratified k fold cross validation\n",
    "X = []\n",
    "y = []\n",
    "for i in range(len(avg_drug_table.data)):\n",
    "    # create X, y, remove class label from X\n",
    "    X.append(avg_drug_table.data[i].copy()) \n",
    "    y.append(avg_drug_table.data[i][-1]) # class label\n",
    "# remove class label from X\n",
    "for row in X:\n",
    "    row.pop(-1)\n",
    "\n",
    "# get folds\n",
    "X_train_folds, X_test_folds = myevaluation.stratified_kfold_cross_validation(X, y, n_splits=5, random_state=None, shuffle=True)\n",
    "\n",
    "# create training/testing sets out of the folds\n",
    "X_train_sets, y_train_sets = myutils.get_sets_from_folds(X, y, X_train_folds)\n",
    "X_test_sets, y_test_sets = myutils.get_sets_from_folds(X, y, X_test_folds)\n",
    "\n",
    "labels = [\"VE\", \"E\", \"ME\", \"SE\", \"NE\"]\n",
    "dummy = MyDummyClassifier()\n",
    "myutils.fit_predict_classification(X_train_sets, y_train_sets, \n",
    "    X_test_sets, y_test_sets, dummy, \"Dummy\", labels)\n"
   ]
  },
  {
   "cell_type": "markdown",
   "metadata": {},
   "source": [
    "### EDA - Statistics"
   ]
  },
  {
   "cell_type": "code",
   "execution_count": null,
   "metadata": {},
   "outputs": [],
   "source": []
  },
  {
   "cell_type": "code",
   "execution_count": 11,
   "metadata": {},
   "outputs": [
    {
     "ename": "TypeError",
     "evalue": "get_frequencies() takes 2 positional arguments but 3 were given",
     "output_type": "error",
     "traceback": [
      "\u001b[1;31m---------------------------------------------------------------------------\u001b[0m",
      "\u001b[1;31mTypeError\u001b[0m                                 Traceback (most recent call last)",
      "\u001b[1;32m<ipython-input-11-767791d4b4d5>\u001b[0m in \u001b[0;36m<module>\u001b[1;34m\u001b[0m\n\u001b[0;32m      1\u001b[0m \u001b[1;31m# Boxplot of each class label\u001b[0m\u001b[1;33m\u001b[0m\u001b[1;33m\u001b[0m\u001b[1;33m\u001b[0m\u001b[0m\n\u001b[1;32m----> 2\u001b[1;33m \u001b[0meff_vals\u001b[0m\u001b[1;33m,\u001b[0m \u001b[0meff_counts\u001b[0m \u001b[1;33m=\u001b[0m \u001b[0mavg_drug_table\u001b[0m\u001b[1;33m.\u001b[0m\u001b[0mget_frequencies\u001b[0m\u001b[1;33m(\u001b[0m\u001b[0mavg_drug_table\u001b[0m\u001b[1;33m.\u001b[0m\u001b[0mcolumn_names\u001b[0m\u001b[1;33m,\u001b[0m \u001b[1;34m'Effectiveness'\u001b[0m\u001b[1;33m)\u001b[0m\u001b[1;33m\u001b[0m\u001b[1;33m\u001b[0m\u001b[0m\n\u001b[0m\u001b[0;32m      3\u001b[0m \u001b[0mplot_utils\u001b[0m\u001b[1;33m.\u001b[0m\u001b[0mbar_chart\u001b[0m\u001b[1;33m(\u001b[0m\u001b[0meff_vals\u001b[0m\u001b[1;33m,\u001b[0m \u001b[0meff_counts\u001b[0m\u001b[1;33m,\u001b[0m \u001b[1;34m\"Cylinder Types\"\u001b[0m\u001b[1;33m,\u001b[0m \u001b[1;34m\"Cylinder\"\u001b[0m\u001b[1;33m,\u001b[0m \u001b[1;34m\"Frequency\"\u001b[0m\u001b[1;33m)\u001b[0m\u001b[1;33m\u001b[0m\u001b[1;33m\u001b[0m\u001b[0m\n",
      "\u001b[1;31mTypeError\u001b[0m: get_frequencies() takes 2 positional arguments but 3 were given"
     ]
    }
   ],
   "source": [
    "# Boxplot of each class label\n",
    "eff_vals, eff_counts = avg_drug_table.get_frequencies(avg_drug_table.column_names, 'Effectiveness')\n",
    "plot_utils.bar_chart(eff_vals, eff_counts, \"Cylinder Types\", \"Cylinder\", \"Frequency\")"
   ]
  }
 ],
 "metadata": {
  "interpreter": {
   "hash": "d4d1e4263499bec80672ea0156c357c1ee493ec2b1c70f0acce89fc37c4a6abe"
  },
  "kernelspec": {
   "display_name": "Python 3.9.7 ('base')",
   "language": "python",
   "name": "python3"
  },
  "language_info": {
   "codemirror_mode": {
    "name": "ipython",
    "version": 3
   },
   "file_extension": ".py",
   "mimetype": "text/x-python",
   "name": "python",
   "nbconvert_exporter": "python",
   "pygments_lexer": "ipython3",
   "version": "3.8.3"
  },
  "orig_nbformat": 4
 },
 "nbformat": 4,
 "nbformat_minor": 2
}
