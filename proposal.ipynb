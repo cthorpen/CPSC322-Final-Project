{
 "cells": [
  {
   "cell_type": "markdown",
   "source": [
    "# CPSC322 Project Proposal  \n",
    "\n",
    "Team Members: Payton Burks, Cole Thorpen\n",
    "\n",
    "\n",
    "## 1. Dataset Description:  \n",
    "1. Source\n",
    "    - Title: _UCI ML Drug Review dataset_\n",
    "    - The dataset was found on Kaggle, from user Jessica Li and one other contributor.  \n",
    "        It can be found in `input_data/drugsCom_clean.csv`\n",
    "    - Link: https://www.kaggle.com/datasets/jessicali9530/kuc-hackathon-winter-2018\n",
    "        - [View dataset origin here](https://www.kaggle.com/datasets/jessicali9530/kuc-hackathon-winter-2018).\n",
    "1. Format:\n",
    "    - The dataset is in a CSV file format, which makes it easy to convert to a `MyPyTable` instance.  \n",
    "1. Contents:\n",
    "    - _drugName_: Name of drug\n",
    "    - _condition_: Name of condition the drug intends to treat\n",
    "    - _date_: date of review and rating entry\n",
    "    - _usefulCount_: Number of users who found the review and rating useful\n",
    "    - _rating_: 10 star patient review \n",
    "1. brief description of the attributes and what you will use as class information (what you will try to predict).\n",
    "    - The attributes included in the dataset are listed and described above. Another attribute, _review_, was omitted  \n",
    "        from the dataset, as it included lenghty reviews of each drug and holds no usefulness in our interpretation of the data.  \n",
    "    - Class information: the _rating_ attribute will be converted to our class label, and we will predict the 0-10 value  \n",
    "        for each unseen instance.   \n"
   ],
   "metadata": {}
  },
  {
   "cell_type": "markdown",
   "source": [
    "## 2. Implementation/Technical Merit\n",
    "1. Anticipated challenges in pre-processing and/or classification\n",
    "    - We anticipated the _review_ attribute to disrupt our classification, so we removed it to provide more  \n",
    "        straightforward predictions and learning of the data. \n",
    "    - The number of instances may be too large (over 200,000) and too computationally expensive for us, so  \n",
    "        we may need to remove some instances from the dataset.\n",
    "1. If the number of attributes is large, how will you explore feature selection techniques to pare down the attributes?\n",
    "    - We don't believe that the number of attributes is too large, given we only have 4, but the number of instances  \n",
    "        may be too large. \n",
    "1. Potential impacts of the results\n",
    "1. Why are these results useful?\n",
    "    - Our results will be useful because they will inform potential medical patients of the possible experience they may  \n",
    "        have when using the drugs included in the dataset.\n",
    "1. Who are stakeholders (users/groups that are impacted by the outcome of the project) interested in these results?\n",
    "    - Individuals with conditions listed as the conditions these drugs are used to treat will be stakeholders in our results.  \n",
    "        They will be interested in knowing how these drugs have worked for others and decide if they should also be prescribed  \n",
    "        said drug."
   ],
   "metadata": {}
  },
  {
   "cell_type": "markdown",
   "source": [
    "## 3. Potential impacts of the results\n",
    "1. Why are these results useful?\n",
    "    - Our results will be useful because they will inform potential medical patients of the possible experience they may  \n",
    "        have when using the drugs included in the dataset.\n",
    "1. Who are stakeholders (users/groups that are impacted by the outcome of the project) interested in these results?\n",
    "    - Individuals with conditions listed as the conditions these drugs are used to treat will be stakeholders in our results.  \n",
    "        They will be interested in knowing how these drugs have worked for others and decide if they should also be prescribed  \n",
    "        said drug"
   ],
   "metadata": {}
  }
 ],
 "metadata": {
  "orig_nbformat": 4,
  "language_info": {
   "name": "python"
  }
 },
 "nbformat": 4,
 "nbformat_minor": 2
}